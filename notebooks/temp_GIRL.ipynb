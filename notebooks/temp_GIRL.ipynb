{
  "metadata": {
    "language_info": {
      "codemirror_mode": {
        "name": "python",
        "version": 3
      },
      "file_extension": ".py",
      "mimetype": "text/x-python",
      "name": "python",
      "nbconvert_exporter": "python",
      "pygments_lexer": "ipython3",
      "version": "3.8"
    },
    "kernelspec": {
      "name": "python",
      "display_name": "Python (Pyodide)",
      "language": "python"
    }
  },
  "nbformat_minor": 4,
  "nbformat": 4,
  "cells": [
    {
      "cell_type": "code",
      "source": "import gym\nimport numpy as np\n\n# 特徴量関数を定義する\ndef feature_fn(state, action):\n    return np.array([state[0], state[1], state[2], state[3], action])\n\n# 状態価値関数を定義する\ndef value_fn(state, theta):\n    features = feature_fn(state, 0)\n    value = np.dot(theta, features)\n    return value\n\n# 方策を定義する\ndef policy_fn(state, theta):\n    left_value = value_fn(state, theta)\n    right_value = value_fn(state, theta)\n    if left_value > right_value:\n        return 0\n    else:\n        return 1\n\n# エピソードを実行する\ndef run_episode(env, theta):\n    state = env.reset()\n    done = False\n    total_reward = 0\n    while not done:\n        action = policy_fn(state, theta)\n        next_state, reward, done, info = env.step(action)\n        total_reward += reward\n        state = next_state\n    return total_reward\n\n# 重みベクトルを学習する\ndef learn_weight(env, num_episodes, learning_rate):\n    theta = np.zeros(5)\n    for episode in range(num_episodes):\n        total_reward = run_episode(env, theta)\n        features = np.zeros(5)\n        state = env.reset()\n        done = False\n        while not done:\n            action = policy_fn(state, theta)\n            features += feature_fn(state, action)\n            next_state, reward, done, info = env.step(action)\n            state = next_state\n        theta += learning_rate * (total_reward - np.dot(theta, features)) * features\n    return theta\n\n# 学習を実行する\nenv = gym.make('CartPole-v0')\ntheta = learn_weight(env, num_episodes=1000, learning_rate=0.01)\nprint(theta)\n",
      "metadata": {},
      "execution_count": null,
      "outputs": []
    }
  ]
}